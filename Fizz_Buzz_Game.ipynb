{
  "nbformat": 4,
  "nbformat_minor": 0,
  "metadata": {
    "colab": {
      "provenance": [],
      "authorship_tag": "ABX9TyOLxkBpgFEO/dqgWwQ2p/sh"
    },
    "kernelspec": {
      "name": "python3",
      "display_name": "Python 3"
    },
    "language_info": {
      "name": "python"
    }
  },
  "cells": [
    {
      "cell_type": "markdown",
      "source": [
        "## &#9998; Ejercicio Fizz Buzz\n",
        "\n",
        "Fizz buzz es un juego de palabras grupal para enseñar a los niños la división [[1]](https://en.wikipedia.org/wiki/Fizz_buzz). Los jugadores se turnan para contar de forma incremental, reemplazando cualquier número divisible por tres con la palabra \"Fizz\" y cualquier número divisible por cinco con la palabra \"Buzz\"."
      ],
      "metadata": {
        "id": "iLg5DQUhV42q"
      }
    },
    {
      "cell_type": "markdown",
      "source": [
        "Un ejemplo del juego sería el siguiente:\n",
        "\n",
        "1, 2, Fizz, 4, Buzz, Fizz, 7, 8, Fizz, Buzz, 11, Fizz, 13, 14, Fizz Buzz, 16, 17, Fizz, 19, Buzz, Fizz, 22, 23, Fizz, Buzz, 26, Fizz, 28, 29, Fizz Buzz, 31, 32, Fizz, 34, Buzz, Fizz, ..."
      ],
      "metadata": {
        "id": "12bc8Cm4a1-N"
      }
    },
    {
      "cell_type": "markdown",
      "source": [
        "- Escribe un programa en Python que dados dos números de inicio y fin de una secuencia, recorra la secuencia y escriba el número o la cadena \"Fizz\", \"Buzz\" correspondiente.  \n",
        "- Por ejemplo. Si los números de entrada son 13 y 19, el programa deberá escribir:\n",
        "    \n",
        "    13, 14, Fizz Buzz,16,17,Fizz,19"
      ],
      "metadata": {
        "id": "fYYEu91CV8hG"
      }
    },
    {
      "cell_type": "code",
      "execution_count": 5,
      "metadata": {
        "id": "fRzH9XT7V12W"
      },
      "outputs": [],
      "source": [
        "# LECTURA DE DATOS DE ENTRADA\n",
        "'''\n",
        "Escribe un programa que solicite dos numeros al usuario: n y m\n",
        "El programa debe garantizar lo siguiente:\n",
        "    1. que n y m son enteros\n",
        "    2. que n > 0 y m > 0\n",
        "    2. que n < m\n",
        "'''\n",
        "# TU CODIGO AQUI\n",
        "\n",
        "def fizz_buzz_game(n: int, m:int = None):\n",
        "  \"\"\"\"Fizz Buzz Game\"\"\"\n",
        "  if m is None:\n",
        "        m = n\n",
        "        n = 1\n",
        "  if n < 1 or m < 1:\n",
        "        raise ValueError(\"Ambos valores deben ser mayores a 0\")\n",
        "  if n >= m:\n",
        "        raise ValueError(\"El inicio debe ser menor al final\")\n",
        "  for i in range (n, m + 1):\n",
        "    end_str=\", \"\n",
        "    if (i % 15 == 0):\n",
        "      msg = \"Fizz Buzz\"\n",
        "    elif (i % 3 == 0):\n",
        "      msg = \"Fizz\"\n",
        "    elif (i % 5 == 0):\n",
        "      msg = \"Buzz\"\n",
        "    else:\n",
        "      msg = i\n",
        "    if (i == m):\n",
        "      end_str=\".\"\n",
        "    print(msg, end=end_str)"
      ]
    },
    {
      "cell_type": "code",
      "source": [
        "# EJERCICIO FIZZ BUZZ\n",
        "print('Imprimiendo la salida...\\n')\n",
        "# TU CODIGO AQUI\n",
        "start = int(input(\"Escriba el numero de inicio de la secuencia: \"))\n",
        "end = int(input(\"Escriba el numero final de la secuencia: \"))\n",
        "fizz_buzz_game(start, end)"
      ],
      "metadata": {
        "colab": {
          "base_uri": "https://localhost:8080/"
        },
        "id": "B3QZmjMgW0kj",
        "outputId": "2a873378-8cc6-4016-b9ca-e080f39658ee"
      },
      "execution_count": 6,
      "outputs": [
        {
          "output_type": "stream",
          "name": "stdout",
          "text": [
            "Imprimiendo la salida...\n",
            "\n",
            "Escriba el numero de inicio de la secuencia: 5\n",
            "Escriba el numero final de la secuencia: 50\n",
            "Buzz, Fizz, 7, 8, Fizz, Buzz, 11, Fizz, 13, 14, Fizz Buzz, 16, 17, Fizz, 19, Buzz, Fizz, 22, 23, Fizz, Buzz, 26, Fizz, 28, 29, Fizz Buzz, 31, 32, Fizz, 34, Buzz, Fizz, 37, 38, Fizz, Buzz, 41, Fizz, 43, 44, Fizz Buzz, 46, 47, Fizz, 49, Buzz."
          ]
        }
      ]
    }
  ]
}